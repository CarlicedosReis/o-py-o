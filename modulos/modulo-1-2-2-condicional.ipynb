{
  "cells": [
    {
      "cell_type": "markdown",
      "metadata": {
        "id": "ZsOab_JD4oxp"
      },
      "source": [
        "<img src=\"https://github.com/CarlicedosReis/o-py-o/blob/master/imagens/3.png?raw=1\">\n",
        "\n",
        "## Revisando o conteúdo da semana!"
      ]
    },
    {
      "cell_type": "markdown",
      "metadata": {
        "id": "1tO0YZLG4oxr"
      },
      "source": [
        "1) Faça um algoritmo que solicite a entrada de um número e exiba o dia da semana correspondente (1-Domingo, 2- Segunda,...,7-Sábado), se receber um outro valor a mensagem \"Valor inválido\" deverá ser exibida."
      ]
    },
    {
      "cell_type": "code",
      "execution_count": null,
      "metadata": {
        "id": "9l1pYzo84oxs"
      },
      "outputs": [],
      "source": [
        "dom = '1'\n",
        "seg = '2'\n",
        "ter ='3'\n",
        "qua = '4'\n",
        "qui = '5'\n",
        "sex = '6'\n",
        "sab = '7'\n",
        "\n",
        "x= int\n",
        "\n",
        "if x>sab\n",
        "    print('valor inválido')"
      ]
    },
    {
      "cell_type": "markdown",
      "metadata": {
        "id": "qim30m0N4oxt"
      },
      "source": [
        "2) Faça um algoritmo que pergunte a usuária em que ano ela nasceu e, caso ela seja maior de idade, imprima em que ano ela fez 18 anos. Caso ela seja menor de idade, imprima em qual ano ela completará 18 anos. \n",
        "\n",
        "Pra deixar a saída mais fácil de entender utilize mensagens como: **\"Você fez 18 anos em: \"**, **\"Você completará 18 anos em: \"**."
      ]
    },
    {
      "cell_type": "code",
      "execution_count": null,
      "metadata": {
        "id": "aSwIaWA74oxu"
      },
      "outputs": [],
      "source": [
        "ano de nascimento = input(' ano de nascimento')\n",
        "\n",
        "ano atual = input('ano atual')\n",
        "\n",
        "idade = int(ano de nascimento) - int(ano atual)\n",
        "\n",
        "dezoito = int(ano de nascimento) + int(idade)\n",
        "\n",
        "if idade>18 \n",
        "    print( 'você fez 18 anos em' , dezoito)\n",
        "else\n",
        "    print(' você completará 18 anos em', dezoito )    "
      ]
    },
    {
      "cell_type": "markdown",
      "metadata": {
        "id": "mheWvFat4oxu"
      },
      "source": [
        "3) Faça um algoritmo que solicite as 3 notas da usuária, calcule a média e indique se a aluna foi aprovada ou reprovada (nota precisar ser **maior ou igual** à 7 para a aluna ser aprovada)."
      ]
    },
    {
      "cell_type": "code",
      "execution_count": null,
      "metadata": {
        "id": "EQZEnSb24oxv"
      },
      "outputs": [],
      "source": [
        "nota1 = input ('nota 1: ')\n",
        "\n",
        "nota2 = input ('nota 2: ')\n",
        "\n",
        "nota3 = input ('nota 3: ')\n",
        "\n",
        "\n",
        "soma = int(nota1) + int(nota2) + int(nota3) \n",
        "\n",
        "média = int( soma/3)\n",
        "\n",
        "if média >= 5 \n",
        "    print(\"aprovada\", média)\n",
        "else\n",
        "    print(\"reprovada\")"
      ]
    },
    {
      "cell_type": "markdown",
      "metadata": {
        "id": "9w5Q8uPd4oxw"
      },
      "source": [
        "4) Faça um algoritmo que pergunte a idade da usuária e depois disso exiba a classificação etária de acordo com as faixas de valores:\n",
        "    \n",
        "- Criança para 0 até 11 anos;\n",
        "- Adolescente para 12 até 18 anos;\n",
        "- Jovem para 19 até 24 anos;\n",
        "- Adulto para 25 até 40 anos;\n",
        "- Meia Idade para 41 até 60 anos;\n",
        "- Idoso acima de 60 anos."
      ]
    },
    {
      "cell_type": "code",
      "execution_count": null,
      "metadata": {
        "id": "KuwClphS4oxy"
      },
      "outputs": [],
      "source": [
        "#idade = int\n",
        "idade = input('qual a tua idade')\n",
        "\n",
        "if idade <= 11\n",
        "    print('criança')\n",
        "\n",
        "if 12 >= idade <=18\n",
        "    print('adolescente')\n",
        "\n",
        "if 19>= idade <=24\n",
        "    print('jovem')\n",
        "\n",
        "if 25>=idade<=40\n",
        "    print('adulto')\n",
        "\n",
        "if 40>=idade<=60\n",
        "    print('meia idade')\n",
        "\n",
        "if idade>60\n",
        "    print('idoso')\n"
      ]
    },
    {
      "cell_type": "markdown",
      "metadata": {
        "id": "vkGAahVt4oxy"
      },
      "source": [
        "> ##### Você sabe como Python diferencia \"PyLadies\" de \"Pyladies\"? Dá só uma olhada nisso: [Comparação de Strings em Python - eXcript](http://excript.com/python/comparacao-de-string-python.html)"
      ]
    },
    {
      "cell_type": "markdown",
      "metadata": {
        "id": "YDwf2_D_4ox0"
      },
      "source": [
        "4) Faça um programa que solicite a entrada de dois nomes e imprima uma mensagem informando se eles são iguais ou não.\n",
        "\n",
        "\n",
        "> ##### Dica: cuidado com o int no `input()`"
      ]
    },
    {
      "cell_type": "code",
      "execution_count": null,
      "metadata": {
        "id": "HjM_2pEr4ox1"
      },
      "outputs": [],
      "source": [
        "nome1 = input('nome 1')\n",
        "nome2 = input('nome 2')\n",
        "\n",
        "if nome1=nome2\n",
        "    print('são nomes iguais')\n",
        "else\n",
        "    print('são nomes diferentes')"
      ]
    },
    {
      "cell_type": "markdown",
      "metadata": {
        "id": "SeMNCfsA4ox2"
      },
      "source": [
        "---\n",
        "\n",
        "## Quais são as outras formas de praticar esses conceitos?\n",
        "\n",
        "<img src=\"https://media.giphy.com/media/LqZZp4y9ANZIcQzuXC/giphy.gif\" align=\"left\">"
      ]
    },
    {
      "cell_type": "code",
      "execution_count": null,
      "metadata": {
        "id": "itT4J44E4ox3"
      },
      "outputs": [],
      "source": [
        "<Adicionar atividade de sua preferência para aplicação dos conceitos>"
      ]
    }
  ],
  "metadata": {
    "kernelspec": {
      "display_name": "Python 3",
      "language": "python",
      "name": "python3"
    },
    "language_info": {
      "codemirror_mode": {
        "name": "ipython",
        "version": 3
      },
      "file_extension": ".py",
      "mimetype": "text/x-python",
      "name": "python",
      "nbconvert_exporter": "python",
      "pygments_lexer": "ipython3",
      "version": "3.8.5"
    },
    "colab": {
      "provenance": []
    }
  },
  "nbformat": 4,
  "nbformat_minor": 0
}