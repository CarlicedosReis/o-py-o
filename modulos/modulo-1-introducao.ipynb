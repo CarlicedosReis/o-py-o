{
  "cells": [
    {
      "cell_type": "markdown",
      "metadata": {
        "id": "WK0rrRtK9mMG"
      },
      "source": [
        "<img src=\"https://github.com/CarlicedosReis/o-py-o/blob/master/imagens/1.png?raw=1\">\n",
        "\n",
        "## Revisando o conteúdo da semana!"
      ]
    },
    {
      "cell_type": "markdown",
      "metadata": {
        "id": "L-YeAXjy9mML"
      },
      "source": [
        "1 - Em uma instrução print, o que acontece se você omitir um dos parênteses ou ambos?"
      ]
    },
    {
      "cell_type": "code",
      "execution_count": 2,
      "metadata": {
        "id": "xCFkVxMf9mMM",
        "outputId": "a5328079-57b1-43c5-caf8-2eacb27a6c48",
        "colab": {
          "base_uri": "https://localhost:8080/"
        }
      },
      "outputs": [
        {
          "output_type": "stream",
          "name": "stdout",
          "text": [
            "Nome: Vera\n",
            "Idade: 24\n"
          ]
        }
      ],
      "source": [
        "nome='Vera'\n",
        "idade=24\n",
        "print('Nome: ' + nome + '\\nIdade: ' + str(idade))\n",
        "# Acontece um erro de sintaxe porque precisa de fechar todos os parenteses abertos\n"
      ]
    },
    {
      "cell_type": "markdown",
      "metadata": {
        "id": "ViwQ9g3F9mMN"
      },
      "source": [
        "2 - O que acontece se puser um sinal de mais antes de um número? E se escrever assim: 2++2?"
      ]
    },
    {
      "cell_type": "code",
      "execution_count": 3,
      "metadata": {
        "id": "HOGQUzBy9mMO",
        "outputId": "b32571b3-36d7-47cd-fcc9-dee9c37aa6fa",
        "colab": {
          "base_uri": "https://localhost:8080/",
          "height": 130
        }
      },
      "outputs": [
        {
          "output_type": "error",
          "ename": "IndentationError",
          "evalue": "ignored",
          "traceback": [
            "\u001b[0;36m  File \u001b[0;32m\"<ipython-input-3-eaac4372dd5a>\"\u001b[0;36m, line \u001b[0;32m7\u001b[0m\n\u001b[0;31m    2++2\u001b[0m\n\u001b[0m    ^\u001b[0m\n\u001b[0;31mIndentationError\u001b[0m\u001b[0;31m:\u001b[0m unexpected indent\n"
          ]
        }
      ],
      "source": [
        "2==3\n",
        "idade_lorena = 24\n",
        "\n",
        "#if idade == idade_lorena: \n",
        "  #print('igual')\n",
        "\n",
        "  2++2"
      ]
    },
    {
      "cell_type": "markdown",
      "metadata": {
        "id": "MwAILloA9mMP"
      },
      "source": [
        "3 - O que acontece se você tentar usar 02 isso no Python?"
      ]
    },
    {
      "cell_type": "code",
      "execution_count": 5,
      "metadata": {
        "id": "2NfU2Awj9mMP",
        "outputId": "5cd7f212-dbff-4e39-a49f-f456a7b3be08",
        "colab": {
          "base_uri": "https://localhost:8080/",
          "height": 130
        }
      },
      "outputs": [
        {
          "output_type": "error",
          "ename": "SyntaxError",
          "evalue": "ignored",
          "traceback": [
            "\u001b[0;36m  File \u001b[0;32m\"<ipython-input-5-5010c0a12f38>\"\u001b[0;36m, line \u001b[0;32m1\u001b[0m\n\u001b[0;31m    idade_vera = 02\u001b[0m\n\u001b[0m                  ^\u001b[0m\n\u001b[0;31mSyntaxError\u001b[0m\u001b[0;31m:\u001b[0m invalid token\n"
          ]
        }
      ],
      "source": [
        "idade_vera = 02\n",
        "\n",
        "print ('idade_vera')"
      ]
    },
    {
      "cell_type": "markdown",
      "metadata": {
        "id": "fBDHc1NI9mMQ"
      },
      "source": [
        "4 - Quantos segundos há em 42 minutos e 42 segundos?"
      ]
    },
    {
      "cell_type": "code",
      "execution_count": 13,
      "metadata": {
        "id": "enORzrMO9mMR",
        "outputId": "91833461-8fca-4551-b0da-b228fdea2ddb",
        "colab": {
          "base_uri": "https://localhost:8080/"
        }
      },
      "outputs": [
        {
          "output_type": "execute_result",
          "data": {
            "text/plain": [
              "2562"
            ]
          },
          "metadata": {},
          "execution_count": 13
        }
      ],
      "source": [
        "minuto = 60\n",
        "n = 42\n",
        "\n",
        "n*minuto+n\n",
        "\n",
        "\n"
      ]
    },
    {
      "cell_type": "markdown",
      "metadata": {
        "id": "ncUwybrt9mMS"
      },
      "source": [
        "5 - Vimos que n = 42 é legal. E 42 = n?"
      ]
    },
    {
      "cell_type": "code",
      "execution_count": 14,
      "metadata": {
        "id": "Oz2iIeLq9mMT",
        "outputId": "2dd2460f-a055-451b-8b5b-62e4a9fb979d",
        "colab": {
          "base_uri": "https://localhost:8080/",
          "height": 130
        }
      },
      "outputs": [
        {
          "output_type": "error",
          "ename": "SyntaxError",
          "evalue": "ignored",
          "traceback": [
            "\u001b[0;36m  File \u001b[0;32m\"<ipython-input-14-301055a3b4e4>\"\u001b[0;36m, line \u001b[0;32m1\u001b[0m\n\u001b[0;31m    42 = n\u001b[0m\n\u001b[0m          ^\u001b[0m\n\u001b[0;31mSyntaxError\u001b[0m\u001b[0;31m:\u001b[0m can't assign to literal\n"
          ]
        }
      ],
      "source": [
        "42 = n\n",
        "\n",
        "n*2\n",
        "\n",
        "\n",
        "# erro, não pode começar com numero"
      ]
    },
    {
      "cell_type": "markdown",
      "metadata": {
        "id": "pup4iw_g9mMT"
      },
      "source": [
        "6 - Ou x = y = 1?\n"
      ]
    },
    {
      "cell_type": "code",
      "execution_count": 16,
      "metadata": {
        "id": "M-Ww0BFl9mMT"
      },
      "outputs": [],
      "source": [
        "x=y=1\n",
        "\n",
        "x=1"
      ]
    },
    {
      "cell_type": "markdown",
      "metadata": {
        "id": "KKRRyBb59mMU"
      },
      "source": [
        "7 - O que acontece se você puser um ponto e vírgula no fim de uma instrução no Python? E um ponto?"
      ]
    },
    {
      "cell_type": "code",
      "execution_count": 20,
      "metadata": {
        "id": "m-os-Zn29mMU",
        "outputId": "c23408ab-d7fd-4787-df27-59ced81c538b",
        "colab": {
          "base_uri": "https://localhost:8080/",
          "height": 130
        }
      },
      "outputs": [
        {
          "output_type": "error",
          "ename": "SyntaxError",
          "evalue": "ignored",
          "traceback": [
            "\u001b[0;36m  File \u001b[0;32m\"<ipython-input-20-64af9dc71790>\"\u001b[0;36m, line \u001b[0;32m7\u001b[0m\n\u001b[0;31m    n*minuto+n.\u001b[0m\n\u001b[0m               ^\u001b[0m\n\u001b[0;31mSyntaxError\u001b[0m\u001b[0;31m:\u001b[0m invalid syntax\n"
          ]
        }
      ],
      "source": [
        "minuto = 60\n",
        "n = 42\n",
        "\n",
        "n*minuto+n,\n",
        "# (2562,) apareceu o resultado entre parenteses\n",
        "\n",
        "n*minuto+n.\n",
        "\n",
        "#deu erro\n"
      ]
    },
    {
      "cell_type": "markdown",
      "metadata": {
        "id": "PMbuuNA29mMV"
      },
      "source": [
        "8 - Em notação matemática é possível multiplicar x e y desta forma: xy. O que acontece se você tentar fazer o mesmo no Python?"
      ]
    },
    {
      "cell_type": "markdown",
      "metadata": {
        "id": "ybAECwk09mMV"
      },
      "source": [
        "---"
      ]
    },
    {
      "cell_type": "code",
      "execution_count": 38,
      "metadata": {
        "id": "TRTPAXpn9mMV",
        "outputId": "3fafb6b0-fa91-47b5-cc37-ddcb3e4bfe84",
        "colab": {
          "base_uri": "https://localhost:8080/"
        }
      },
      "outputs": [
        {
          "output_type": "execute_result",
          "data": {
            "text/plain": [
              "12"
            ]
          },
          "metadata": {},
          "execution_count": 38
        }
      ],
      "source": [
        "x=2 \n",
        "y=6\n",
        "\n",
        "x*y\n",
        "#dúvida\n"
      ]
    },
    {
      "cell_type": "markdown",
      "metadata": {
        "id": "7Xf3Outu9mMW"
      },
      "source": [
        "## Quais são as outras formas de praticar esses conceitos?\n",
        "\n",
        "<img src=\"https://media.giphy.com/media/2wS8Hh619rZvvf95op/giphy.gif\" align=\"left\">"
      ]
    },
    {
      "cell_type": "markdown",
      "metadata": {
        "id": "5TEy3J5s9mMW"
      },
      "source": [
        "<Adicionar atividade de sua preferência para aplicação dos conceitos>"
      ]
    }
  ],
  "metadata": {
    "kernelspec": {
      "display_name": "Python 3",
      "language": "python",
      "name": "python3"
    },
    "language_info": {
      "codemirror_mode": {
        "name": "ipython",
        "version": 3
      },
      "file_extension": ".py",
      "mimetype": "text/x-python",
      "name": "python",
      "nbconvert_exporter": "python",
      "pygments_lexer": "ipython3",
      "version": "3.6.10"
    },
    "colab": {
      "provenance": []
    }
  },
  "nbformat": 4,
  "nbformat_minor": 0
}