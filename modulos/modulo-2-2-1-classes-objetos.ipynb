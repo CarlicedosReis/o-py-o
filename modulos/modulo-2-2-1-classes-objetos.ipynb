{
 "cells": [
  {
   "cell_type": "markdown",
   "metadata": {},
   "source": [
    "<img src=\"../imagens/8.png\">\n",
    "\n",
    "## Revisando o conteúdo da semana!"
   ]
  },
  {
   "cell_type": "markdown",
   "metadata": {},
   "source": [
    "1) Classe Bola: Crie uma classe que modele uma bola:\n",
    "\n",
    "- Atributos: Cor, circunferência, material\n",
    "- Métodos: trocaCor e mostraCor"
   ]
  },
  {
   "cell_type": "code",
   "execution_count": null,
   "metadata": {},
   "outputs": [],
   "source": []
  },
  {
   "cell_type": "markdown",
   "metadata": {},
   "source": [
    "2) Classe Quadrado: Crie uma classe que modele um quadrado:\n",
    "\n",
    "- Atributos: Tamanho do lado\n",
    "- Métodos: Mudar valor do Lado, Retornar valor do Lado e calcular Área;"
   ]
  },
  {
   "cell_type": "code",
   "execution_count": null,
   "metadata": {},
   "outputs": [],
   "source": []
  },
  {
   "cell_type": "markdown",
   "metadata": {},
   "source": [
    "3) Classe Bichinho Virtual:Crie uma classe que modele um Tamagushi (Bichinho Eletrônico):\n",
    "\n",
    "- Atributos: Nome, Fome, Saúde e Idade b. \n",
    "- Métodos: Alterar Nome, Fome, Saúde e Idade; Retornar Nome, Fome, Saúde e Idade \n",
    "    - **Obs: Existe mais uma informação que devemos levar em consideração, o Humor do nosso tamagushi**, este humor é uma combinação entre os atributos Fome e Saúde, ou seja, um campo calculado, então não devemos criar um atributo para armazenar esta informação por que ela pode ser calculada a qualquer momento."
   ]
  },
  {
   "cell_type": "markdown",
   "metadata": {},
   "source": [
    "---    \n",
    "    \n",
    "## Quais são as outras formas de praticar esses conceitos?\n",
    "\n",
    "<img src=\"https://media.giphy.com/media/45dPIJaV9AYOZUZ0nQ/giphy.gif\" align=\"left\">\n"
   ]
  },
  {
   "cell_type": "markdown",
   "metadata": {},
   "source": [
    "<Adicionar atividade de sua preferência para aplicação dos conceitos>"
   ]
  }
 ],
 "metadata": {
  "kernelspec": {
   "display_name": "Python 3",
   "language": "python",
   "name": "python3"
  },
  "language_info": {
   "codemirror_mode": {
    "name": "ipython",
    "version": 3
   },
   "file_extension": ".py",
   "mimetype": "text/x-python",
   "name": "python",
   "nbconvert_exporter": "python",
   "pygments_lexer": "ipython3",
   "version": "3.8.5"
  }
 },
 "nbformat": 4,
 "nbformat_minor": 4
}
