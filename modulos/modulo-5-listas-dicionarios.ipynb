{
 "cells": [
  {
   "cell_type": "markdown",
   "metadata": {},
   "source": [
    "<img src=\"../imagens/5.png\">\n",
    "\n",
    "## Revisando o conteúdo da semana!"
   ]
  },
  {
   "cell_type": "markdown",
   "metadata": {},
   "source": [
    "1 - Escreva uma função chamada `nested_sum` que receba uma lista de listas de números inteiros e adicione os elementos de todas as listas aninhadas. Por exemplo:"
   ]
  },
  {
   "cell_type": "markdown",
   "metadata": {},
   "source": [
    "```python\n",
    "t = [[1, 2], [3], [4, 5, 6]]\n",
    "nested_sum(t)\n",
    "21\n",
    "```"
   ]
  },
  {
   "cell_type": "code",
   "execution_count": null,
   "metadata": {},
   "outputs": [],
   "source": []
  },
  {
   "cell_type": "markdown",
   "metadata": {},
   "source": [
    "2 - Escreva uma função chamada `is_sorted` que tome uma lista como parâmetro e retorne **True** se a lista estiver classificada em ordem ascendente, e False se não for o caso. Por exemplo:"
   ]
  },
  {
   "cell_type": "markdown",
   "metadata": {},
   "source": [
    "```python\n",
    "is_sorted([1, 2, 2])\n",
    "True\n",
    "is_sorted(['b', 'a'])\n",
    "False\n",
    "```"
   ]
  },
  {
   "cell_type": "code",
   "execution_count": null,
   "metadata": {},
   "outputs": [],
   "source": []
  },
  {
   "cell_type": "markdown",
   "metadata": {},
   "source": [
    "3 - Escreva uma função chamada `has_duplicates` que tome uma lista e retorne **True** se houver algum elemento que apareça mais de uma vez. Ela não deve modificar a lista original."
   ]
  },
  {
   "cell_type": "code",
   "execution_count": null,
   "metadata": {},
   "outputs": [],
   "source": []
  },
  {
   "cell_type": "markdown",
   "metadata": {},
   "source": [
    "4 - Você já tem uma função chamada `has_duplicates`, que recebe uma lista como parâmetro e retorna True se houver algum objeto que aparece mais de uma vez na lista. Use um dicionário para escrever uma versão mais rápida e simples de has_duplicates."
   ]
  },
  {
   "cell_type": "code",
   "execution_count": null,
   "metadata": {},
   "outputs": [],
   "source": []
  },
  {
   "cell_type": "markdown",
   "metadata": {},
   "source": [
    "---\n",
    "\n",
    "## Quais são as outras formas de praticar esses conceitos?\n",
    "<img src=\"https://media.giphy.com/media/Ta1zCPgNNr2GQ/giphy.gif\" align=\"left\">\n"
   ]
  },
  {
   "cell_type": "markdown",
   "metadata": {},
   "source": [
    "<Adicionar atividade de sua preferência para aplicação dos conceitos>"
   ]
  }
 ],
 "metadata": {
  "kernelspec": {
   "display_name": "Python 3",
   "language": "python",
   "name": "python3"
  },
  "language_info": {
   "codemirror_mode": {
    "name": "ipython",
    "version": 3
   },
   "file_extension": ".py",
   "mimetype": "text/x-python",
   "name": "python",
   "nbconvert_exporter": "python",
   "pygments_lexer": "ipython3",
   "version": "3.6.10"
  }
 },
 "nbformat": 4,
 "nbformat_minor": 4
}
