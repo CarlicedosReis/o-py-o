{
 "cells": [
  {
   "cell_type": "markdown",
   "metadata": {
    "id": "phEer7UJsVJT"
   },
   "source": [
    "<img src=\"https://github.com/PyLadiesSalvador/o-py-o/blob/master/imagens/bemvindas.png?raw=1\">\n",
    "\n",
    "# Musicou toda!\n",
    "\n",
    "A partir do material [Análise de Dados e Forró](https://dandaramcsousa.github.io/2020/05/26/dados-e-forro-vol-1.html) de [Dandara Sousa](https://dandaramcsousa.github.io/about/) e [dos exemplos do Spotipy](https://github.com/plamere/spotipy/tree/master/examples), tomamos coragem e resolvemos também brincar com o SpotyPy.\n",
    "\n",
    "> *A ideia aqui é revisar o que aprendemos explorando uma conexão com o aplicativo Spotify e a biblioteca Pandas para a análise de dados.*\n",
    "\n",
    "## O que já vimos até aqui?\n",
    "\n",
    "- Funções\n",
    "- Condicionais\n",
    "- Laços de repetição\n",
    "- Listas e dicionários\n",
    "\n",
    "## O que faremos hoje?\n",
    "\n",
    "1. Preparando o terreno: [Credenciais e App](https://developer.spotify.com/dashboard/login)\n",
    "2. Pesquisando *uma artista* no Spotify\n",
    "3. Pesquisando *um álbum* no Spotify\n",
    "4. E *as músicas* dos álbuns?\n",
    "5. Pegandos nossas informações no Spotify\n",
    "\n",
    "### Outros Links:\n",
    "- [Documentação spotipy](https://spotipy.readthedocs.io/en/2.16.0/)"
   ]
  },
  {
   "cell_type": "markdown",
   "metadata": {
    "id": "3ERiC8ZrQJjm"
   },
   "source": [
    "### 1º Preparando o terreno "
   ]
  },
  {
   "cell_type": "code",
   "execution_count": null,
   "metadata": {
    "colab": {
     "base_uri": "https://localhost:8080/",
     "height": 185
    },
    "id": "PRQ1I2-wQJjn",
    "outputId": "ce74dab0-4232-4866-d9ae-e66d5f5f56c0"
   },
   "outputs": [],
   "source": [
    "!pip install spotipy"
   ]
  },
  {
   "cell_type": "code",
   "execution_count": null,
   "metadata": {
    "id": "idNgvoO9XP34"
   },
   "outputs": [],
   "source": [
    "from spotipy.oauth2 import SpotifyClientCredentials\n",
    "import spotipy\n",
    "import sys\n",
    "import csv\n",
    "\n",
    "client_id=\"SEU ID\"\n",
    "client_secret=\"SEU SECRED ID\"\n",
    "                 \n",
    "sp = spotipy.Spotify(client_credentials_manager = SpotifyClientCredentials(client_id, client_secret))"
   ]
  },
  {
   "cell_type": "markdown",
   "metadata": {
    "id": "Tp6IwmCLQJjs"
   },
   "source": [
    "### 2º Pesquisando uma artista"
   ]
  },
  {
   "cell_type": "code",
   "execution_count": null,
   "metadata": {
    "colab": {
     "base_uri": "https://localhost:8080/",
     "height": 34
    },
    "id": "-2ZMqKIkQJjs",
    "outputId": "5e834bc3-6d43-4895-ea91-7102e248b4dc"
   },
   "outputs": [],
   "source": [
    "results = sp.search(\"SEU ARTISTA\")\n",
    "type(results)"
   ]
  },
  {
   "cell_type": "markdown",
   "metadata": {
    "id": "Qd07VVpIQJjv"
   },
   "source": [
    "*Como podemos saber o que tem dentro desse dicionário?*"
   ]
  },
  {
   "cell_type": "code",
   "execution_count": null,
   "metadata": {
    "colab": {
     "base_uri": "https://localhost:8080/",
     "height": 34
    },
    "id": "n2gBW73NQJjv",
    "outputId": "8bf8b062-7d30-4373-b53d-22fd80082663"
   },
   "outputs": [],
   "source": [
    "results.keys()"
   ]
  },
  {
   "cell_type": "code",
   "execution_count": null,
   "metadata": {
    "colab": {
     "base_uri": "https://localhost:8080/",
     "height": 1000
    },
    "id": "ja9sz3D4QJjx",
    "outputId": "d47dc5cb-ec2d-4953-9709-eaa405c53a80"
   },
   "outputs": [],
   "source": [
    "results.get('tracks')"
   ]
  },
  {
   "cell_type": "code",
   "execution_count": null,
   "metadata": {
    "colab": {
     "base_uri": "https://localhost:8080/",
     "height": 34
    },
    "id": "dPKyPgvfQJjz",
    "outputId": "8f836638-5774-469b-c56c-78c169021021"
   },
   "outputs": [],
   "source": [
    "results.get('tracks').keys()"
   ]
  },
  {
   "cell_type": "code",
   "execution_count": null,
   "metadata": {
    "colab": {
     "base_uri": "https://localhost:8080/",
     "height": 54
    },
    "id": "TDsanZfeQJj3",
    "outputId": "d01afe37-da5c-48e8-a982-f88ba5ce5efa"
   },
   "outputs": [],
   "source": [
    "results.get('tracks').items()"
   ]
  },
  {
   "cell_type": "code",
   "execution_count": null,
   "metadata": {
    "colab": {
     "base_uri": "https://localhost:8080/",
     "height": 218
    },
    "id": "8CYndxWhQJj5",
    "outputId": "cf9428af-333a-42cc-e06e-38986f7bf277"
   },
   "outputs": [],
   "source": [
    "results.get('tracks').get(\"items\")[0].get('artists')"
   ]
  },
  {
   "cell_type": "markdown",
   "metadata": {
    "id": "N6yIgVMgQJj7"
   },
   "source": [
    "*E se quisermos fazer outra busca agora? Facilita se criarmos uma função, né?*"
   ]
  },
  {
   "cell_type": "code",
   "execution_count": null,
   "metadata": {
    "id": "2D3aGeApXcDo"
   },
   "outputs": [],
   "source": [
    "def get_artist(name):\n",
    "    results = sp.search(q='artist:' + name, type='artist')\n",
    "    items = results.get('artists').get('items')\n",
    "    \n",
    "    return items[0] if len(items) else None"
   ]
  },
  {
   "cell_type": "markdown",
   "metadata": {
    "id": "0JfIlNlqQJj9"
   },
   "source": [
    "*Como a execução a seguir funciona?*"
   ]
  },
  {
   "cell_type": "code",
   "execution_count": null,
   "metadata": {
    "colab": {
     "base_uri": "https://localhost:8080/",
     "height": 34
    },
    "id": "zSePGTmFQJj-",
    "outputId": "92ed4a72-adbb-47da-abf2-5df505c7d936"
   },
   "outputs": [],
   "source": [
    "get_artist(\"SEU ARTISTA\").get('genres')"
   ]
  },
  {
   "cell_type": "markdown",
   "metadata": {
    "id": "2KpSh5edQJkA"
   },
   "source": [
    "### 3º Pesquisando um album no Spotify"
   ]
  },
  {
   "cell_type": "code",
   "execution_count": null,
   "metadata": {
    "id": "FXf89L33QJkA"
   },
   "outputs": [],
   "source": [
    "id = get_artist(\"SEU ARTISTA\").get('id')"
   ]
  },
  {
   "cell_type": "code",
   "execution_count": null,
   "metadata": {
    "id": "zcMi9elDQJkC"
   },
   "outputs": [],
   "source": [
    "albums = sp.artist_albums(id, album_type='album')"
   ]
  },
  {
   "cell_type": "code",
   "execution_count": null,
   "metadata": {
    "colab": {
     "base_uri": "https://localhost:8080/",
     "height": 54
    },
    "id": "Wq02WrhQQJkE",
    "outputId": "6a24d7b4-b750-4f6a-df6d-3bf6e8ba1b6d"
   },
   "outputs": [],
   "source": [
    "albums.get('items')[0].keys()"
   ]
  },
  {
   "cell_type": "code",
   "execution_count": null,
   "metadata": {
    "colab": {
     "base_uri": "https://localhost:8080/",
     "height": 54
    },
    "id": "OfypmzAHQJkG",
    "outputId": "a9a6c603-cfa5-497b-9f31-dfd953eb7bc5"
   },
   "outputs": [],
   "source": [
    "search = 'ALBUM DO SEU ARTISTA'\n",
    "full_albumn = {}\n",
    "\n",
    "for album in albums.get('items'):\n",
    "    if album.get('name') == search:\n",
    "        full_albumn = album\n",
    "        print(full_albumn)\n",
    "        break"
   ]
  },
  {
   "cell_type": "code",
   "execution_count": null,
   "metadata": {
    "colab": {
     "base_uri": "https://localhost:8080/",
     "height": 35
    },
    "id": "7kUQIUZ3QJkJ",
    "outputId": "58f7741b-6099-40f2-c0cf-57ab3d2a1ae9"
   },
   "outputs": [],
   "source": [
    "full_albumn.get('id')"
   ]
  },
  {
   "cell_type": "markdown",
   "metadata": {
    "id": "07TskR79QJkL"
   },
   "source": [
    "*Como a gente transforma isso em uma função?*\n",
    "\n",
    "#### #ColaboraAquiMana"
   ]
  },
  {
   "cell_type": "code",
   "execution_count": null,
   "metadata": {
    "colab": {
     "base_uri": "https://localhost:8080/",
     "height": 54
    },
    "id": "cHBi83BrQJkL",
    "outputId": "bb143141-f594-45d3-d345-497a526f8b83"
   },
   "outputs": [],
   "source": [
    "def searchalbum(albumname):\n",
    "  full_albumn = {}\n",
    "\n",
    "  for album in albums.get('items'):\n",
    "      if album.get('name') == albumname:\n",
    "          full_albumn = album\n",
    "          print(full_albumn)\n",
    "          break\n",
    "\n",
    "searchalbum('ALBUM DO SEU ARTISTA')"
   ]
  },
  {
   "cell_type": "markdown",
   "metadata": {
    "id": "GJM5P1kMQJkN"
   },
   "source": [
    "### 4º E as músicas dos álbuns?"
   ]
  },
  {
   "cell_type": "code",
   "execution_count": null,
   "metadata": {
    "id": "w9eJjbKkQJkO"
   },
   "outputs": [],
   "source": [
    "tracks = sp.album_tracks(album_id='ID DO ALBUM')\n",
    "type(tracks)"
   ]
  },
  {
   "cell_type": "code",
   "execution_count": null,
   "metadata": {
    "id": "uuIN8pbwQJkQ"
   },
   "outputs": [],
   "source": [
    "tracks.get('items')[0].keys()"
   ]
  },
  {
   "cell_type": "markdown",
   "metadata": {
    "id": "ntvKtaXlQJkS"
   },
   "source": [
    "### *é agora hein...*"
   ]
  },
  {
   "cell_type": "code",
   "execution_count": null,
   "metadata": {
    "id": "3bAybFMrQJkS",
    "outputId": "52d21776-3105-4515-e491-8445e80d2348"
   },
   "outputs": [],
   "source": [
    "for track in tracks.get('items'):\n",
    "    print(track.get('name'))"
   ]
  },
  {
   "cell_type": "markdown",
   "metadata": {
    "id": "CDKQtkfZQJkV"
   },
   "source": [
    "<img src=\"https://media.giphy.com/media/6Q3M4BIK0lX44/giphy.gif\">"
   ]
  },
  {
   "cell_type": "code",
   "execution_count": null,
   "metadata": {
    "id": "vUegXzSdQJkW"
   },
   "outputs": [],
   "source": [
    "import pandas as pd\n",
    "\n",
    "por_voce_list = []\n",
    "\n",
    "for track in tracks.get('items'):\n",
    "    track_dict = {\n",
    "        'name': track.get('name'),\n",
    "        'duration_ms': track.get('duration_ms')\n",
    "    }\n",
    "    por_voce_list.append(track_dict)\n",
    "    \n",
    "por_voce_df = pd.DataFrame(por_voce_list)\n",
    "por_voce_df.head()"
   ]
  },
  {
   "cell_type": "markdown",
   "metadata": {
    "id": "oizReOdJQJkX"
   },
   "source": [
    "*Agora que temos essa \"tabela\" o pandas nos permite ordenar os valores com facilidade.*"
   ]
  },
  {
   "cell_type": "code",
   "execution_count": null,
   "metadata": {
    "id": "YGBTyeOzQJkY"
   },
   "outputs": [],
   "source": [
    "por_voce_df.sort_values('duration_ms', ascending=False)"
   ]
  },
  {
   "cell_type": "markdown",
   "metadata": {
    "id": "1Ou-acMpQJkZ"
   },
   "source": [
    "### 5º Pegandos nossas informações no Spotify"
   ]
  },
  {
   "cell_type": "code",
   "execution_count": null,
   "metadata": {
    "id": "0JWpz3CwQJka"
   },
   "outputs": [],
   "source": [
    "import spotipy\n",
    "from spotipy.oauth2 import SpotifyOAuth\n",
    "\n",
    "sp = spotipy.Spotify(auth_manager=SpotifyOAuth(client_id,\n",
    "                                               client_secret,\n",
    "                                               redirect_uri=\"SUA URI\",\n",
    "                                               scope=\"user-top-read\"))"
   ]
  },
  {
   "cell_type": "code",
   "execution_count": null,
   "metadata": {
    "id": "JrsigLjzwBRG"
   },
   "outputs": [],
   "source": [
    "tracks_short_term = sp.current_user_top_tracks(time_range='short_term', limit=10)\n",
    "tracks_medium_term = sp.current_user_top_tracks(time_range='medium_term', limit=10)\n",
    "tracks_long_term = sp.current_user_top_tracks(time_range='long_term', limit=10)"
   ]
  },
  {
   "cell_type": "code",
   "execution_count": null,
   "metadata": {
    "id": "1aA8IxRTQJke"
   },
   "outputs": [],
   "source": [
    "my_musics = tracks_short_term.get('items') + tracks_medium_term.get('items') + tracks_long_term.get('items')"
   ]
  },
  {
   "cell_type": "code",
   "execution_count": null,
   "metadata": {
    "id": "Fc-rxvPlQJkh"
   },
   "outputs": [],
   "source": [
    "my_musics[0].keys()"
   ]
  },
  {
   "cell_type": "code",
   "execution_count": null,
   "metadata": {
    "id": "WF2_yZSAQJki"
   },
   "outputs": [],
   "source": [
    "my_musics_df = pd.json_normalize(my_musics)\n",
    "my_musics_df.head()"
   ]
  },
  {
   "cell_type": "markdown",
   "metadata": {
    "id": "3T3hz9sCQJkk"
   },
   "source": [
    "*E se fosse com o `my_musics_df = pd.DataFrame(my_musics)`?*  \n",
    "\n",
    "#### #ColaboraAquiMana: Adiciona o exemplo de como seria e uma descrição sobre a diferença entre as duas formas `pd.json_normalize()` e `pd.DataFrame()`."
   ]
  },
  {
   "cell_type": "code",
   "execution_count": null,
   "metadata": {
    "id": "QSBuB6vIQJkk"
   },
   "outputs": [],
   "source": [
    "my_musics_df = pd.DataFrame(my_musics)\n",
    "my_musics_df.head()"
   ]
  },
  {
   "cell_type": "markdown",
   "metadata": {
    "id": "6Fof8sk-QJkm"
   },
   "source": [
    "---\n",
    "\n",
    "### *O que o Pandas tem a oferecer?*"
   ]
  },
  {
   "cell_type": "markdown",
   "metadata": {
    "id": "yD1L5y92QJkm"
   },
   "source": [
    "#### Filtrando linhas"
   ]
  },
  {
   "cell_type": "code",
   "execution_count": null,
   "metadata": {
    "id": "WORFrloGQJkn"
   },
   "outputs": [],
   "source": [
    "my_musics_df.loc[my_musics_df['name'] == 'NOME DE MUSICA DO DATAFRAME ACIMA']"
   ]
  },
  {
   "cell_type": "markdown",
   "metadata": {
    "id": "vTXz3tZAQJkp"
   },
   "source": [
    "#### Agrupando dados"
   ]
  },
  {
   "cell_type": "code",
   "execution_count": null,
   "metadata": {
    "id": "wBjAD9WnQJkp",
    "scrolled": true
   },
   "outputs": [],
   "source": [
    "my_musics_df.groupby(['name', 'id']).size().reset_index(name='qtd')"
   ]
  },
  {
   "cell_type": "markdown",
   "metadata": {
    "id": "8ZFEA-kLQJkr"
   },
   "source": [
    "#### Filtrando com o query"
   ]
  },
  {
   "cell_type": "code",
   "execution_count": null,
   "metadata": {
    "id": "sQR1iLjKQJkr"
   },
   "outputs": [],
   "source": [
    "my_musics_df.groupby(['name', 'id']).size().reset_index(name='qtd').query('qtd > 1')"
   ]
  },
  {
   "cell_type": "markdown",
   "metadata": {
    "id": "shP8_1xfQJkt"
   },
   "source": [
    "#### Filtrando com o Lambda \n",
    "\n",
    "#### #ColaboraAquiMana: Tenta fazer esse filtro usando o *lambda* - pesquisa por \"apply and Lambda usage in pandas\"."
   ]
  },
  {
   "cell_type": "code",
   "execution_count": null,
   "metadata": {
    "id": "dVVclhuaQJkt"
   },
   "outputs": [],
   "source": [
    "df = my_musics_df.groupby(['name', 'id']).size().reset_index(name='qtd')\n",
    "print(df.loc[df['qtd'].apply(lambda x: x>1)])"
   ]
  },
  {
   "cell_type": "markdown",
   "metadata": {
    "id": "5k0PXDrSQJkv"
   },
   "source": [
    "#### Lidando com registros repetidos"
   ]
  },
  {
   "cell_type": "code",
   "execution_count": null,
   "metadata": {
    "id": "bchIQ0CSQJkv"
   },
   "outputs": [],
   "source": [
    "len(my_musics_df)"
   ]
  },
  {
   "cell_type": "code",
   "execution_count": null,
   "metadata": {
    "id": "_XYv0Jk8QJky"
   },
   "outputs": [],
   "source": [
    "my_musics_df = my_musics_df.drop_duplicates('id')\n",
    "len(my_musics_df)"
   ]
  },
  {
   "cell_type": "markdown",
   "metadata": {
    "id": "H5YRGtC4QJk0"
   },
   "source": [
    "#### Ordenando e exibindo dados"
   ]
  },
  {
   "cell_type": "code",
   "execution_count": null,
   "metadata": {
    "id": "5y4VmpAyQJk0"
   },
   "outputs": [],
   "source": [
    "my_musics_df.columns"
   ]
  },
  {
   "cell_type": "code",
   "execution_count": null,
   "metadata": {
    "id": "uhuWgFT8QJk2"
   },
   "outputs": [],
   "source": [
    "my_musics_df.sort_values('popularity', ascending=False)[['name', 'popularity', 'album.name', 'duration_ms']]"
   ]
  },
  {
   "cell_type": "code",
   "execution_count": null,
   "metadata": {
    "id": "kG9JTx5gQJk3"
   },
   "outputs": [],
   "source": [
    "!pip install altair"
   ]
  },
  {
   "cell_type": "code",
   "execution_count": null,
   "metadata": {
    "id": "kzkaWdGcQJk6"
   },
   "outputs": [],
   "source": [
    "import altair as alt\n",
    "\n",
    "popularidade = my_musics_df.sort_values('popularity', ascending = False)\n",
    "\n",
    "alt.Chart(popularidade).mark_circle(color = '#FF9138', opacity = 1).encode(\n",
    "    y = alt.Y('name', axis = alt.Axis(title='Música'), sort = None),\n",
    "    x = alt.X('popularity', axis = alt.Axis(title = \"Popularidade\")),\n",
    "    tooltip = ['name', 'popularity', 'album.name'])"
   ]
  },
  {
   "cell_type": "markdown",
   "metadata": {
    "id": "ysg-xQmfQJk8"
   },
   "source": [
    "## É isso! Obrigada! <3"
   ]
  },
  {
   "cell_type": "markdown",
   "metadata": {
    "id": "OjGWN8dLQJk9"
   },
   "source": [
    "<img src=\"https://media.giphy.com/media/l4Ep71LWjYR1eCPXq/giphy.gif\">"
   ]
  }
 ],
 "metadata": {
  "colab": {
   "name": "Estudo Spotify.ipynb",
   "provenance": []
  },
  "kernelspec": {
   "display_name": "Python 3",
   "language": "python",
   "name": "python3"
  },
  "language_info": {
   "codemirror_mode": {
    "name": "ipython",
    "version": 3
   },
   "file_extension": ".py",
   "mimetype": "text/x-python",
   "name": "python",
   "nbconvert_exporter": "python",
   "pygments_lexer": "ipython3",
   "version": "3.7.4"
  }
 },
 "nbformat": 4,
 "nbformat_minor": 1
}
